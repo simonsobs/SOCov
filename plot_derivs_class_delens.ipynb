{
 "cells": [
  {
   "cell_type": "code",
   "execution_count": 1,
   "metadata": {},
   "outputs": [],
   "source": [
    "# run class inside module\n",
    "# Modify the ini file with params\n",
    "# read spectra from output\n",
    "# compare to other calculations\n",
    "import os\n",
    "import subprocess\n",
    "#from classy import CLASS\n",
    "os.chdir('/home/renee/class_delens')\n",
    "\n"
   ]
  },
  {
   "cell_type": "code",
   "execution_count": 120,
   "metadata": {},
   "outputs": [
    {
     "data": {
      "text/plain": [
       "0.000290888209"
      ]
     },
     "execution_count": 120,
     "metadata": {},
     "output_type": "execute_result"
    }
   ],
   "source": [
    "common_settings = {# LambdaCDM parameters\n",
    "    'H0':67.5,\n",
    "    'omega_b':0.0222,\n",
    "    'omega_cdm':0.1197,\n",
    "    'N_ur':3.046,\n",
    "    'A_s':2.196e-09,\n",
    "    'n_s':0.9655,\n",
    "    'tau_reio':0.055,\n",
    "    'm_ncdm':0.06,\n",
    "    'delensing':'yes',\n",
    "    'output':'tCl,pCl,lCl,dlCl',\n",
    "    'lensing':'yes',\n",
    "    'accurate_lensing':1,\n",
    "    'modes':'s',\n",
    "    'l_max_scalars':3000,\n",
    "    'delta_l_max': 1500,\n",
    "    'temperature noise spectra type':'idealized',\n",
    "    'polarization noise spectra type':'idealized',\n",
    "    'lensing reconstruction noise spectra type':'internal',\n",
    "    'delta_noise':0.000290888209,\n",
    "    'sigma_beam':0.000290888209,\n",
    "    'output_spectra_noise':'yes'}\n",
    "\n",
    "common_settings['sigma_beam']"
   ]
  },
  {
   "cell_type": "code",
   "execution_count": 115,
   "metadata": {},
   "outputs": [],
   "source": [
    "# Code to generate a new class_delens ini file based on a dictionary entry\n",
    "\n",
    "def change_input(fnamein, fnameout,dict):\n",
    "\n",
    "    key_inds = []\n",
    "    with open(fnamein, 'r') as f: lines = f.readlines()\n",
    "    g=open(fnameout, 'w')\n",
    "    for line in lines:\n",
    "        if (len(line.split())>0): \n",
    "            if '##' not in line.split('=')[0]:\n",
    "                for i,key in enumerate(dict.keys()):\n",
    "                    if line.split('=')[0].strip()==key:\n",
    "                        tmpl = line\n",
    "                        lst = tmpl.split('=')\n",
    "                        lst[-1]=str(dict[key])\n",
    "                        line = '= '.join(lst)+'\\n'\n",
    "                        print(line, 'line2')\n",
    "        g.write(line)\n",
    "    g.close()\n",
    "        "
   ]
  },
  {
   "cell_type": "code",
   "execution_count": 121,
   "metadata": {},
   "outputs": [
    {
     "name": "stdout",
     "output_type": "stream",
     "text": [
      "delensing = yes\n",
      " line2\n",
      "output = tCl,pCl,lCl,dlCl\n",
      " line2\n",
      "accurate_lensing = 1\n",
      " line2\n",
      "modes = s\n",
      " line2\n",
      "lensing = yes\n",
      " line2\n",
      "l_max_scalars = 3000\n",
      " line2\n",
      "delta_l_max = 1500\n",
      " line2\n",
      "temperature noise spectra type  = idealized\n",
      " line2\n",
      "polarization noise spectra type = idealized\n",
      " line2\n",
      "delta_noise = 0.000290888209\n",
      " line2\n",
      "sigma_beam  = 0.000290888209\n",
      " line2\n",
      "output_spectra_noise = yes\n",
      " line2\n",
      "lensing reconstruction noise spectra type = internal\n",
      " line2\n",
      "H0 = 67.5\n",
      " line2\n",
      "omega_b = 0.0222\n",
      " line2\n",
      "omega_cdm = 0.1197\n",
      " line2\n",
      "N_ur = 3.046\n",
      " line2\n",
      "A_s = 2.196e-09\n",
      " line2\n",
      "n_s = 0.9655\n",
      " line2\n",
      "tau_reio = 0.055\n",
      " line2\n",
      "m_ncdm = 0.06\n",
      " line2\n"
     ]
    }
   ],
   "source": [
    "fnameout = 'test_out.ini'\n",
    "change_input('test.ini', fnameout,common_settings)"
   ]
  },
  {
   "cell_type": "code",
   "execution_count": 122,
   "metadata": {},
   "outputs": [
    {
     "name": "stdout",
     "output_type": "stream",
     "text": [
      "./class test_out.ini\n",
      "Calculating idealized cmb temperature noise spectra in the form: \n",
      " (N_l= square of the instrumental noise in mu K-radians ) * exp[ l * (l+1) * ( square of the beamsize in radians \u0016/ (8 log 2))^2 ].\n",
      "Calculating idealized cmb polarization noise spectra in the form: \n",
      " (N_l= square of the instrumental noise in mu K-radians ) * exp[ l * (l+1) * ( square of the beamsize in radians \u0016/ (8 log 2))^2 ].\n",
      "Will calculate lensing reconstruction noise spectra estimate from lensed CMB spectra a la astro-ph/0301031.\n",
      "Using CMB spectra calculated by CLASS.\n",
      "Using *lensed* CMB spectra calculated by CLASS.\n",
      "Done calculating lensing.\n",
      "Calculating the delensed spectra.\n",
      "[DEBUG] (Total) convergence ratio: multipole(l)-sum of (N_l[i+1]-N_l[i])/N_l[i]=0.000000e+00 for iteration i=0\n",
      "[DEBUG] N_l is minimum-variance lensing noise reconstruction spectrum\n",
      "Calculating the 2nd-derivatives of the lensed spectra for sampling.\n"
     ]
    }
   ],
   "source": [
    "cmd = \"./class %s\"%fnameout\n",
    "print(cmd)\n",
    "returned_value = subprocess.call(cmd, shell=True) \n"
   ]
  },
  {
   "cell_type": "code",
   "execution_count": null,
   "metadata": {},
   "outputs": [],
   "source": [
    "import numpy as np\n",
    "derivs = np.loadtxt('output/test_out00_dClTEdClTE_lensed.dat', unpack=True)\n",
    "# DLM: Derivative of the Cl_TE spectrum with respect to unlensed Cl_TE. \n",
    "# Rows are L multipoles at the corresponding Cl_TE, unlensed spectrum; \n",
    "# and columns are the l multipoles for the corresponding lensed Cl_TE spectrum.\n",
    "# for l=2 to 3000, printing if Mod[l,10]==0. \n"
   ]
  }
 ],
 "metadata": {
  "kernelspec": {
   "display_name": "nbodykit-env",
   "language": "python",
   "name": "python3"
  },
  "language_info": {
   "codemirror_mode": {
    "name": "ipython",
    "version": 3
   },
   "file_extension": ".py",
   "mimetype": "text/x-python",
   "name": "python",
   "nbconvert_exporter": "python",
   "pygments_lexer": "ipython3",
   "version": "3.8.17"
  },
  "orig_nbformat": 4
 },
 "nbformat": 4,
 "nbformat_minor": 2
}
