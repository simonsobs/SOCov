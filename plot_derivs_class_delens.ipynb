{
 "cells": [
  {
   "cell_type": "code",
   "execution_count": null,
   "metadata": {},
   "outputs": [],
   "source": [
    "# run class inside module\n",
    "# Modify the ini file with params\n",
    "# read spectra from output\n",
    "# compare to other calculations\n",
    "import os\n",
    "import subprocess\n",
    "#from classy import CLASS\n",
    "run_class=F\n",
    "if run_class:\n",
    "    os.chdir('./class_delens')\n",
    "\n"
   ]
  },
  {
   "cell_type": "code",
   "execution_count": null,
   "metadata": {},
   "outputs": [],
   "source": [
    "common_settings = {# LambdaCDM parameters\n",
    "    'H0':67.5,\n",
    "    'omega_b':0.0222,\n",
    "    'omega_cdm':0.1197,\n",
    "    'N_ur':3.046,\n",
    "    'A_s':2.196e-09,\n",
    "    'n_s':0.9655,\n",
    "    'tau_reio':0.055,\n",
    "    'm_ncdm':0.06,\n",
    "    'delensing':'yes',\n",
    "    'output':'tCl,pCl,lCl,dlCl',\n",
    "    'lensing':'yes',\n",
    "    'accurate_lensing':1,\n",
    "    'modes':'s',\n",
    "    'l_max_scalars':3000,\n",
    "    'delta_l_max': 1500,\n",
    "    'temperature noise spectra type':'idealized',\n",
    "    'polarization noise spectra type':'idealized',\n",
    "    'lensing reconstruction noise spectra type':'internal',\n",
    "    'delta_noise':0.000290888209,\n",
    "    'sigma_beam':0.000290888209,\n",
    "    'output_spectra_noise':'yes'}\n",
    "\n",
    "common_settings['sigma_beam']"
   ]
  },
  {
   "cell_type": "code",
   "execution_count": null,
   "metadata": {},
   "outputs": [],
   "source": [
    "# Code to generate a new class_delens ini file based on a dictionary entry\n",
    "\n",
    "def change_input(fnamein, fnameout,dict):\n",
    "\n",
    "    key_inds = []\n",
    "    with open(fnamein, 'r') as f: lines = f.readlines()\n",
    "    g=open(fnameout, 'w')\n",
    "    for line in lines:\n",
    "        if (len(line.split())>0): \n",
    "            if '##' not in line.split('=')[0]:\n",
    "                for i,key in enumerate(dict.keys()):\n",
    "                    if line.split('=')[0].strip()==key:\n",
    "                        tmpl = line\n",
    "                        lst = tmpl.split('=')\n",
    "                        lst[-1]=str(dict[key])\n",
    "                        line = '= '.join(lst)+'\\n'\n",
    "                        print(line, 'line2')\n",
    "        g.write(line)\n",
    "    g.close()\n",
    "        "
   ]
  },
  {
   "cell_type": "code",
   "execution_count": null,
   "metadata": {},
   "outputs": [],
   "source": [
    "fnameout = 'test_out.ini'\n",
    "change_input('test.ini', fnameout,common_settings)"
   ]
  },
  {
   "cell_type": "code",
   "execution_count": null,
   "metadata": {},
   "outputs": [],
   "source": [
    "cmd = \"./class %s\"%fnameout\n",
    "print(cmd)\n",
    "returned_value = subprocess.call(cmd, shell=True) \n"
   ]
  },
  {
   "cell_type": "code",
   "execution_count": 7,
   "metadata": {},
   "outputs": [
    {
     "name": "stdout",
     "output_type": "stream",
     "text": [
      "(300, 2999)\n"
     ]
    }
   ],
   "source": [
    "import numpy as np\n",
    "import matplotlib.pyplot as plt\n",
    "derivs = np.loadtxt('testdat/test_out00_dClTEdClTE_lensed.dat', unpack=True)\n",
    "# DLM: Derivative of the Cl_TE spectrum with respect to unlensed Cl_TE. \n",
    "# Rows are L multipoles at the corresponding Cl_TE, unlensed spectrum; \n",
    "# and columns are the l multipoles for the corresponding lensed Cl_TE spectrum.\n",
    "# for l=2 to 3000, printing if Mod[l,10]==0. \n",
    "print(np.shape(derivs))"
   ]
  },
  {
   "cell_type": "code",
   "execution_count": 13,
   "metadata": {},
   "outputs": [
    {
     "data": {
      "image/png": "[encoded data removed]",
      "text/plain": [
       "<Figure size 432x288 with 1 Axes>"
      ]
     },
     "metadata": {
      "needs_background": "light"
     },
     "output_type": "display_data"
    }
   ],
   "source": [
    "import numpy as np\n",
    "import matplotlib.pyplot as plt\n",
    "\n",
    "import SOgen_cov_modules as gcm\n",
    "\n",
    "labelXY='TE'\n",
    "labelWZ='TE'\n",
    "labelList = ['TT','EE','BB','TE']\n",
    "\n",
    "ell_u,ell_l,specXY_u,specWZ_u,specXY_l,specWZ_l= gcm.get_CMB(labelXY,labelWZ,labelList)\n",
    "\n",
    "# Default CAMB return is Dl not Cl\n",
    "specXY_u = gcm.DltoCl(ell_u,specXY_u)\n",
    "specXY_l = gcm.DltoCl(ell_l,specXY_l)\n",
    "specWZ_u = gcm.DltoCl(ell_u,specWZ_u)\n",
    "specWZ_l = gcm.DltoCl(ell_l,specWZ_l)\n",
    "\n",
    "\n",
    "dspecXY_u_dspecXY_l = gcm.get_deriv(specXY_u, specXY_l, numflag=True)\n",
    "\n",
    "plt.plot(dspecXY_u_dspecXY_l[20,2:2500], label='numerical')\n",
    "plt.plot(derivs[20,:], label='class delens')\n",
    "plt.legend(loc='best')\n",
    "plt.xlabel('Multipole')\n",
    "plt.ylabel('Cl Deriv')\n",
    "plt.yscale('log')"
   ]
  },
  {
   "cell_type": "code",
   "execution_count": null,
   "metadata": {},
   "outputs": [],
   "source": []
  },
  {
   "cell_type": "code",
   "execution_count": null,
   "metadata": {},
   "outputs": [],
   "source": []
  }
 ],
 "metadata": {
  "kernelspec": {
   "display_name": "nbodykit-env",
   "language": "python",
   "name": "python3"
  },
  "language_info": {
   "codemirror_mode": {
    "name": "ipython",
    "version": 3
   },
   "file_extension": ".py",
   "mimetype": "text/x-python",
   "name": "python",
   "nbconvert_exporter": "python",
   "pygments_lexer": "ipython3",
   "version": "3.8.5"
  },
  "orig_nbformat": 4
 },
 "nbformat": 4,
 "nbformat_minor": 2
}
